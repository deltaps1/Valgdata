{
 "cells": [
  {
   "cell_type": "code",
   "execution_count": null,
   "metadata": {},
   "outputs": [],
   "source": [
    "import pandas as pd\n",
    "import os\n",
    "import requests\n",
    "import json\n",
    "from dfply import *\n",
    "from matplotlib import pyplot as plt\n",
    "import matplotlib.ticker as ticker\n",
    "import seaborn as sns\n",
    "\n",
    "import ipywidgets as widgets"
   ]
  },
  {
   "cell_type": "code",
   "execution_count": null,
   "metadata": {},
   "outputs": [],
   "source": [
    "# Indtast sti til mappe med datafiler. \n",
    "# Sørg for, at det kun er de relevante .csv-filer, der er tilstede i mappen. \n",
    "path_to_files = './'"
   ]
  },
  {
   "cell_type": "code",
   "execution_count": null,
   "metadata": {},
   "outputs": [],
   "source": [
    "files = os.listdir(path_to_files)"
   ]
  },
  {
   "cell_type": "code",
   "execution_count": null,
   "metadata": {},
   "outputs": [],
   "source": [
    "paths = [os.path.join(path_to_files, x) for x in files if x.endswith(\".csv\")]"
   ]
  },
  {
   "cell_type": "code",
   "execution_count": null,
   "metadata": {},
   "outputs": [],
   "source": [
    "first = True\n",
    "for x in paths:\n",
    "    df_merge = pd.read_csv(x, thousands=\".\")\n",
    "    df_merge[\"kom\"] = x.replace(\".csv\", \"\").replace(path_to_files, \"\")\n",
    "    if first:\n",
    "        df = df_merge\n",
    "        first = False\n",
    "    else:\n",
    "        df = pd.concat([df, pd.read_csv(x, thousands=\".\")])\n",
    "df >>= drop(X.Url)"
   ]
  },
  {
   "cell_type": "code",
   "execution_count": null,
   "metadata": {},
   "outputs": [],
   "source": [
    "df.pct_udvikling = df.pct_udvikling.apply(lambda x: float(x.replace(\"%\", \"\")))"
   ]
  },
  {
   "cell_type": "code",
   "execution_count": null,
   "metadata": {},
   "outputs": [],
   "source": [
    "df.columns"
   ]
  },
  {
   "cell_type": "code",
   "execution_count": null,
   "metadata": {},
   "outputs": [],
   "source": [
    "df.columns = ['Bogstav', 'Parti', 'Stemmetal', 'udvikling', 'pct_udvikling', 'område', 'ant_stemberet', 'gyldige_stem', 'gyldige_stem_udv', 'kom']"
   ]
  },
  {
   "cell_type": "code",
   "execution_count": null,
   "metadata": {},
   "outputs": [],
   "source": [
    "afst = requests.get('https://api.dataforsyningen.dk/afstemningsomraader')\n",
    "afst = [[x['kommune']['navn'], x[\"navn\"], x[\"bbox\"]] for x in afst.json()]\n",
    "\n",
    "# pseudo area = (sw_longitude - ne_longitude)  *  (sw_latitude - ne_latitude)\n",
    "get_area_prox = lambda x: (x[1]-x[3]) * (x[0]-x[2])\n",
    "afst = [x+[get_area_prox(x[2])] for x in afst]\n",
    "\n",
    "df_afst = pd.DataFrame(afst, columns=[\"kom\", \"område\", \"coordinate\", \"bbox_area\"])\n",
    "\n",
    "df.område = df.område.apply(lambda x: x[:30] if len(x) > 30 else x)\n",
    "df_afst.område = df_afst.område.apply(lambda x: x[:30] if len(x) > 30 else x)\n",
    "\n",
    "d = df.merge(df_afst, on=[\"kom\", \"område\"], how=\"left\")"
   ]
  },
  {
   "cell_type": "code",
   "execution_count": null,
   "metadata": {},
   "outputs": [],
   "source": [
    "d[\"tæthed\"] = d.ant_stemberet/d.bbox_area\n",
    "d['forrige_valg'] = d.Stemmetal - d.udvikling"
   ]
  },
  {
   "cell_type": "markdown",
   "metadata": {},
   "source": [
    "# \"Bad appels\"\n",
    "\n",
    "Her findes de områder, der ikke har troværdige data fra sidste valg.  \n",
    "Dette kan skyldeas, at der er tale om nye valgsteder, men det vides ikke med sikkerhed.  \n",
    "Fælles for disse valgsteder er, at alle partierne i området er gået fra 0 til X antal stemmer ved dette valg.  \n",
    "Dermed er det en indikation for, at valgstedet ikke har været brugt før. \n"
   ]
  },
  {
   "cell_type": "code",
   "execution_count": null,
   "metadata": {},
   "outputs": [],
   "source": [
    "bad_apples = (d.groupby([\"kom\", \"område\"]).forrige_valg.sum() >> mask(X == 0)).to_frame().reset_index()\n",
    "bad_apples_omr = bad_apples.område\n",
    "d >>= mask(X.område.isin(bad_apples_omr) == False)\n",
    "print(\"Følgende valgsteder er blevet fjernet fra datasættet pga. manglende bbox\")\n",
    "bad_apples"
   ]
  },
  {
   "cell_type": "code",
   "execution_count": null,
   "metadata": {},
   "outputs": [],
   "source": [
    "parti_liste = list(d.Bogstav.unique())\n",
    "parti_liste.sort()"
   ]
  },
  {
   "cell_type": "markdown",
   "metadata": {},
   "source": [
    "# Generering af figur\n",
    "\n",
    "Kør første celle nedenfor.  \n",
    "Dette producerer en dropdown, som kan justeres til forskellige partier.  \n",
    "Kør derefter de to celler nedenfor for at generere graf og se de valgsteder, hvor partiet har klaret sig bedst. "
   ]
  },
  {
   "cell_type": "code",
   "execution_count": null,
   "metadata": {},
   "outputs": [],
   "source": [
    "parti_valg = widgets.Dropdown(\n",
    "    options=parti_liste,\n",
    "    value='A',\n",
    "    description='Vælg parti',\n",
    "    disabled=False)\n",
    "parti_valg"
   ]
  },
  {
   "cell_type": "code",
   "execution_count": null,
   "metadata": {},
   "outputs": [],
   "source": [
    "parti = parti_valg.value\n",
    "dA = d >> mask(X.Bogstav == parti)\n",
    "\n",
    "fig = plt.figure(figsize=(12,6))\n",
    "ax  = fig.add_subplot(111)\n",
    "\n",
    "sns.set(font_scale=1.4)\n",
    "sns.set_style(\"whitegrid\", {\"grid.color\": \".6\", \"grid.linestyle\": \":\"})\n",
    "ax = sns.scatterplot(data=dA, x=\"tæthed\", y=\"pct_udvikling\", alpha=0.5, size=\"Stemmetal\", sizes = (10,150))\n",
    "ax.set_position([0.15,0.15,0.58,0.8])\n",
    "plt.xscale('log')\n",
    "plt.title(f\"{parti}'s ændrede stemmetal på det enkelte valgsted\")\n",
    "plt.xlabel(\"Befolkningstæthed (bbox proxy)\")\n",
    "plt.ylabel(\"Udvikling i procentpoint\")\n",
    "ax.yaxis.set_major_formatter(ticker.FuncFormatter(lambda x, pos: f\"{int(x)}%\"))\n",
    "ax.legend(title=\"Samlede stemmer\\npå valgsted\", bbox_to_anchor=(1.03, 1), loc=2, borderaxespad=0.)\n",
    "\n",
    "\n",
    "# Afkommentér for at gemme filen som billede\n",
    "# plt.savefig(parti+\".png\")\n"
   ]
  },
  {
   "cell_type": "code",
   "execution_count": null,
   "metadata": {},
   "outputs": [],
   "source": [
    "øverste_procent = dA.pct_udvikling.quantile(q=0.99)\n",
    "print(\"Grænseværdi for øverste percentil:\", øverste_procent)"
   ]
  },
  {
   "cell_type": "code",
   "execution_count": null,
   "metadata": {},
   "outputs": [],
   "source": [
    "(\n",
    "    dA >> mask(X.pct_udvikling > øverste_procent) >> \n",
    "    arrange(X.tæthed, ascending=False) >> \n",
    "    drop(\n",
    "        X.forrige_valg,     X.coordinate, \n",
    "        X.gyldige_stem_udv, X.bbox_area\n",
    "    )\n",
    ")"
   ]
  }
 ],
 "metadata": {
  "interpreter": {
   "hash": "712e9ec50ff30c1a358ca5584695e28bf21bb910c4231949c87c1634bb6c479d"
  },
  "kernelspec": {
   "display_name": "Python 3.8.8 64-bit ('base': conda)",
   "name": "python3"
  },
  "language_info": {
   "codemirror_mode": {
    "name": "ipython",
    "version": 3
   },
   "file_extension": ".py",
   "mimetype": "text/x-python",
   "name": "python",
   "nbconvert_exporter": "python",
   "pygments_lexer": "ipython3",
   "version": "3.8.8"
  },
  "orig_nbformat": 4
 },
 "nbformat": 4,
 "nbformat_minor": 2
}
