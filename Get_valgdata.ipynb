{
 "cells": [
  {
   "cell_type": "code",
   "execution_count": null,
   "metadata": {},
   "outputs": [],
   "source": [
    "import requests\n",
    "from bs4 import BeautifulSoup\n",
    "import os\n",
    "import pandas as pd"
   ]
  },
  {
   "cell_type": "code",
   "execution_count": null,
   "metadata": {},
   "outputs": [],
   "source": [
    "# Indtast stien til den mappe, hvor filerne skal gemmes.\n",
    "SAVE_PATH = \"./\""
   ]
  },
  {
   "cell_type": "code",
   "execution_count": null,
   "metadata": {},
   "outputs": [],
   "source": [
    "def get_soup(html):\n",
    "    return BeautifulSoup(html, 'html.parser')"
   ]
  },
  {
   "cell_type": "code",
   "execution_count": null,
   "metadata": {},
   "outputs": [],
   "source": [
    "def get_html(url):\n",
    "    resp = requests.get(url)\n",
    "    resp.encoding = \"utf-8\"\n",
    "    return resp    "
   ]
  },
  {
   "cell_type": "code",
   "execution_count": null,
   "metadata": {},
   "outputs": [],
   "source": [
    "url = \"https://kmdvalg.dk/Main/Home/KV\"\n",
    "base_url = url[:url.rfind(\"/\")]\n",
    "resp = requests.get(url)\n",
    "resp.encoding = \"utf-8\"\n",
    "soup = get_soup(resp.text)"
   ]
  },
  {
   "cell_type": "code",
   "execution_count": null,
   "metadata": {},
   "outputs": [],
   "source": [
    "muncipality_links = soup.find_all(class_=\"col-sm-12 content-block kmd-list-items\")\n",
    "numb_elements = len(muncipality_links)\n",
    "if numb_elements != 1:\n",
    "    print(\"Warning: a single element could not be found.\")\n",
    "    print(f\"Number of elements is: {numb_elements}\")\n",
    "    print(\"Please check the code!\")\n",
    "muncipality_links = muncipality_links[0]"
   ]
  },
  {
   "cell_type": "code",
   "execution_count": null,
   "metadata": {},
   "outputs": [],
   "source": [
    "resultat_sider = muncipality_links.find_all(\"a\")\n",
    "if len(resultat_sider) != 98:\n",
    "    print(\"Couldn't find exactly 98 muncipalities.\")\n",
    "    print(\"Check if Greenland is in the election.\")\n"
   ]
  },
  {
   "cell_type": "code",
   "execution_count": null,
   "metadata": {},
   "outputs": [],
   "source": [
    "result = {x.contents[0].strip():os.path.join(x.get(\"href\")) for x in resultat_sider}"
   ]
  },
  {
   "cell_type": "code",
   "execution_count": null,
   "metadata": {},
   "outputs": [],
   "source": [
    "def get_data_for_whole_muncipality(muncipality_name):\n",
    "    muncipality = result[muncipality_name]\n",
    "    resp = get_html(muncipality)\n",
    "    soup = get_soup(resp.text)\n",
    "    print(\"Got:\", muncipality_name)\n",
    "    meta = soup.find(class_=\"table table-responsive table-condensed kmd-table kmd-table-info\")\n",
    "    meta = meta.find_all(\"tr\")\n",
    "    meta[0]\n",
    "    get_metadata = lambda list: [x.contents[0] for x in list.find_all(\"td\")]\n",
    "    meta = [get_metadata(x) for x in meta]\n",
    "    stemmer_omr = soup.find(class_=\"col-xs-12 col-sm-6 col-md-8 content-block kmd-parti-list\")\n",
    "    linjer = stemmer_omr.find_all(class_=\"row table-like-row\")\n",
    "    få_linje = lambda linje_: [x.text for x in linje_.find_all(\"div\")]\n",
    "    linjer_format = [få_linje(x) for x in linjer[1:]]\n",
    "    linjer_res = linjer_format[:3]+linjer_format[-1:]\n",
    "\n",
    "    # Stemmer på afstemningssted\n",
    "\n",
    "    afst_omr = soup.find(id=\"vote-areas\")\n",
    "    afst_omr_res = afst_omr.find_all(\"a\")\n",
    "    afst_omr_res[0].contetn # .__dict__\n",
    "\n",
    "    afst_omr_dict = {\n",
    "        x.contents[0]:os.path.join(\"https://www.kmdvalg.dk/kv/2021/\", x[\"href\"]) for x in afst_omr_res\n",
    "    }\n",
    "    reses = []\n",
    "    for område in afst_omr_dict.keys():\n",
    "        reses.append(\n",
    "            afstemningssted(afst_omr_dict, område)\n",
    "        )\n",
    "    return {\n",
    "        'meta': meta,\n",
    "        'kom_niveau': linjer_res, \n",
    "        'områder': reses\n",
    "    }\n",
    "\n",
    "def afstemningssted(afst_omr_dict, område_):\n",
    "    omr = afst_omr_dict[område_]\n",
    "    resp = get_html(omr)\n",
    "    soup = get_soup(resp.text)\n",
    "    meta_ = soup.find(class_=\"table table-responsive table-condensed kmd-table kmd-table-info\")\n",
    "    # print(meta_)\n",
    "    meta_ = meta_.find_all(\"tr\")\n",
    "    get_metadata = lambda liste_: [x.contents[0] for x in liste_.find_all(\"td\")]\n",
    "    meta_ = [get_metadata(x) for x in meta_]\n",
    "\n",
    "    table = soup.find(class_=\"col-xs-12 col-sm-6 col-md-8 content-block kmd-parti-list\")\n",
    "    rows = table.find_all(class_=\"row table-like-row\")[1:]\n",
    "    row = rows[0].find_all(\"div\")\n",
    "    get_rawdata_row = lambda row: [x.contents for x in row]\n",
    "    clean_rawdata = lambda row: [\n",
    "        row[0][0].contents[0],\n",
    "        row[0][1].contents[0],\n",
    "        os.path.join(\n",
    "            base_url, row[0][1][\"href\"]),\n",
    "        row[1][0],\n",
    "        row[2][0],\n",
    "        row[-1][0].replace(\",\", \".\")\n",
    "    ]\n",
    "    comb = lambda row: clean_rawdata(\n",
    "        get_rawdata_row(row)\n",
    "    )\n",
    "    comb(row)\n",
    "    omr_df = pd.DataFrame(\n",
    "        data=[\n",
    "            comb(\n",
    "                x.find_all(\"div\")\n",
    "            ) for x in rows\n",
    "        ],\n",
    "        columns=[\n",
    "            'Bogstav',\n",
    "            'Parti',\n",
    "            'Url',\n",
    "            'Stemmetal',\n",
    "            '(+/-)',\n",
    "            'pct_udvikling'\n",
    "        ]\n",
    "    )\n",
    "    omr_df.set_index(\"Bogstav\", inplace=True)\n",
    "    omr_df[\"område\"] = område_\n",
    "    return [område_, meta_, omr_df]"
   ]
  },
  {
   "cell_type": "code",
   "execution_count": null,
   "metadata": {},
   "outputs": [],
   "source": [
    "def clean_frame(x):\n",
    "    meta = x[1]\n",
    "    ant_stemberet = meta[0][1]\n",
    "    gyldige_stem = meta[-1][1]\n",
    "    gyldige_stem_udv = meta[-1][2]\n",
    "    df = x[2]\n",
    "    df['ant_stemberet'] = ant_stemberet\n",
    "    df['gyldige_stem'] = gyldige_stem\n",
    "    df['gyldige_stem_udv'] = gyldige_stem_udv\n",
    "    return df\n",
    "\n",
    "def concatter(områder):\n",
    "    first = True\n",
    "    for område in områder:\n",
    "        if first:\n",
    "            df = clean_frame(område)\n",
    "            first = False\n",
    "            continue\n",
    "        else:\n",
    "            df = pd.concat([df, clean_frame(område)])\n",
    "    return df"
   ]
  },
  {
   "cell_type": "code",
   "execution_count": null,
   "metadata": {},
   "outputs": [],
   "source": [
    "for kom in result.keys():\n",
    "    try:\n",
    "        res = get_data_for_whole_muncipality(kom)\n",
    "        df = concatter(res[\"områder\"])\n",
    "        df['kom'] = kom\n",
    "        df.to_csv(SAVE_PATH+kom+\".csv\")\n",
    "    except IndexError:\n",
    "        print(kom)"
   ]
  }
 ],
 "metadata": {
  "interpreter": {
   "hash": "712e9ec50ff30c1a358ca5584695e28bf21bb910c4231949c87c1634bb6c479d"
  },
  "kernelspec": {
   "display_name": "Python 3.8.8 64-bit ('base': conda)",
   "name": "python3"
  },
  "language_info": {
   "codemirror_mode": {
    "name": "ipython",
    "version": 3
   },
   "file_extension": ".py",
   "mimetype": "text/x-python",
   "name": "python",
   "nbconvert_exporter": "python",
   "pygments_lexer": "ipython3",
   "version": "3.8.8"
  },
  "orig_nbformat": 4
 },
 "nbformat": 4,
 "nbformat_minor": 2
}
